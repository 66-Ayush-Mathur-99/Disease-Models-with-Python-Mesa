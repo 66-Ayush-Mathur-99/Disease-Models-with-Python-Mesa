{
 "cells": [
  {
   "cell_type": "markdown",
   "metadata": {},
   "source": [
    "## Going from Simple to Complex\n",
    "I will use this notebook to make the work more difficult. I will use a growingly more complex model.\n",
    "\n",
    "Starting the work with simply importing the most important things here."
   ]
  },
  {
   "cell_type": "code",
   "execution_count": 1,
   "metadata": {},
   "outputs": [],
   "source": [
    "from mesa import Agent, Model\n",
    "from mesa.time import RandomActivation\n",
    "from mesa.space import MultiGrid\n",
    "from mesa.datacollection import DataCollector\n",
    "import matplotlib.pyplot as plt"
   ]
  },
  {
   "cell_type": "markdown",
   "metadata": {},
   "source": [
    "## Simple Suceptible-Infected  model\n",
    "In this model I am gonna assume that the agents simply are either infected or suceptible. An infected agent will infect the Suceptible agents regardless of time. Also, the probability of transmission is hard-coded t0 0.4."
   ]
  },
  {
   "cell_type": "code",
   "execution_count": 2,
   "metadata": {},
   "outputs": [],
   "source": [
    "class Person(Agent):\n",
    "    \"\"\"An agent of the Disease model\"\"\"\n",
    "    def _init_(self, unique_id, model, state=False):\n",
    "        super().__init__(unique_id, model)\n",
    "        self.state = state\n",
    "\n",
    "    def move(self):\n",
    "        \"\"\"The function to step check our fuckbois\"\"\"\n",
    "        possible = self.model.grid.get_neighborhood(\n",
    "            self.pos,\n",
    "            moore=True,\n",
    "            include_center = False)\n",
    "        new_position = self.random.choice(possible)\n",
    "        self.model.grid.move_agent(self,new_position)\n",
    "\n",
    "    def interact(self):\n",
    "        \"\"\"How agents interact when they bump in each other\"\"\"\n",
    "        if self.state == True :\n",
    "            '''\n",
    "            for other in self.model.grid.get_neighbors(\n",
    "                self.pos,\n",
    "                True,\n",
    "                include,_center = True,\n",
    "            ):\n",
    "            '''\n",
    "            for other in self.model.grid.get_cell_list_contents(self.pos):\n",
    "                s= self.random.random() \n",
    "                if s < 0.8 :#probability of transmission self.model.tprob\n",
    "                    if other.state ==False:\n",
    "                        other.state = True\n",
    "                        self.model.infected += 1 \n",
    "    def step(self):\n",
    "        self.move()\n",
    "        self.interact()"
   ]
  },
  {
   "cell_type": "code",
   "execution_count": 3,
   "metadata": {},
   "outputs": [],
   "source": [
    "class SimpleDisease(Model):\n",
    "    \"\"\"Simple disease model\"\"\"\n",
    "    def __init__(self,N=300,width=20,height=20):\n",
    "        self.N = N\n",
    "        #self.width = width\n",
    "        #self.height = height\n",
    "\n",
    "        self.grid = MultiGrid(width,height,False)\n",
    "        self.schedule = RandomActivation(self)\n",
    "        self.infected = 0\n",
    "        self.total = 0\n",
    "\n",
    "        # create agents and add to schedule\n",
    "        for i in range(self.N):\n",
    "            agent = Person(i,self)\n",
    "            self.schedule.add(agent)\n",
    "            x= self.random.randrange(self.grid.width)\n",
    "            y= self.random.randrange(self.grid.height)\n",
    "            self.grid.place_agent(agent,(x,y))\n",
    "            if self.random.random() < 0.1:\n",
    "                agent.state =True\n",
    "                self.infected +=1 \n",
    "            else:\n",
    "                agent.state=False\n",
    "\n",
    "        self.datacollector = DataCollector(\n",
    "            model_reporters={\"Infected\":\"infected\", \"Total Infections\": \"total\"},\n",
    "            agent_reporters={\"x\":lambda z:z.pos[0], \"y\": lambda z:z.pos[1], \"status\": lambda z: z.state},\n",
    "        )\n",
    "\n",
    "    def step(self):\n",
    "        #self.infected = 0\n",
    "        self.total += self.infected\n",
    "        self.datacollector.collect(self)\n",
    "        self.infected = 0\n",
    "        self.schedule.step()\n",
    "        #self.total += self.infected when this line is here, it causes calculation mistaKES"
   ]
  },
  {
   "cell_type": "markdown",
   "metadata": {},
   "source": [
    "Now simply checking the result"
   ]
  },
  {
   "cell_type": "code",
   "execution_count": 4,
   "metadata": {},
   "outputs": [
    {
     "data": {
      "image/png": "[encoded data removed]",
      "text/plain": [
       "<Figure size 432x288 with 1 Axes>"
      ]
     },
     "metadata": {
      "needs_background": "light"
     },
     "output_type": "display_data"
    }
   ],
   "source": [
    "model = SimpleDisease(500,20,20)\n",
    "for i in range(40):\n",
    "    model.step()\n",
    "infected = model.datacollector.get_model_vars_dataframe()\n",
    "infected.plot()\n",
    "#print(infected)\n",
    "plt.show()"
   ]
  },
  {
   "cell_type": "markdown",
   "metadata": {},
   "source": [
    "## A simple Suceptible-Infected-Recovered Model\n",
    "Now I'll be using the recovery period to create Recovered population."
   ]
  },
  {
   "cell_type": "code",
   "execution_count": 5,
   "metadata": {},
   "outputs": [],
   "source": [
    "import time"
   ]
  },
  {
   "cell_type": "code",
   "execution_count": 6,
   "metadata": {},
   "outputs": [],
   "source": [
    "class SimpleDisease_2(Model):\n",
    "    \"\"\"Simple disease model\"\"\"\n",
    "    def __init__(self,N=300,width=20,height=20, recover_day = 7):\n",
    "        self.N = N\n",
    "        self.grid = MultiGrid(width,height,False)\n",
    "        self.schedule = RandomActivation(self)\n",
    "        self.infected = 0\n",
    "        self.total = 0\n",
    "        self.recover_days = recover_day # this is the new line here\n",
    "        self.recovered = 0\n",
    "        \n",
    "        # create agents and add to schedule\n",
    "        for i in range(self.N):\n",
    "            agent = Person(i,self)\n",
    "            self.schedule.add(agent)\n",
    "            x= self.random.randrange(self.grid.width)\n",
    "            y= self.random.randrange(self.grid.height)\n",
    "            self.grid.place_agent(agent,(x,y))\n",
    "            if self.random.random() < 0.1:\n",
    "                agent.state = \"Sick\"\n",
    "                agent.infected_time = self.schedule.time\n",
    "                self.infected +=1\n",
    "            else:\n",
    "                agent.state= \"Suceptible\"\n",
    "                agent.infected_time = 1000\n",
    "\n",
    "        self.datacollector = DataCollector(\n",
    "            model_reporters={\"Infected\":\"infected\", \"Total Infections\": \"total\",\"Recovered\":\"recovered\"},\n",
    "            agent_reporters={\"x\":lambda z:z.pos[0], \"y\": lambda z:z.pos[1], \"status\": lambda z: z.state},\n",
    "        )\n",
    "\n",
    "    def step(self):\n",
    "        #self.infected = 0\n",
    "        self.total += self.infected\n",
    "        self.datacollector.collect(self)\n",
    "        self.infected = 0\n",
    "        self.schedule.step()\n",
    "        "
   ]
  },
  {
   "cell_type": "code",
   "execution_count": 7,
   "metadata": {},
   "outputs": [],
   "source": [
    "class Person(Agent):\n",
    "    \"\"\"An agent of the Disease model\"\"\"\n",
    "    def _init_(self, unique_id, model, state= \"Suceptible\"):\n",
    "        super().__init__(unique_id, model)\n",
    "        self.state = state\n",
    "        #self.infected_time = 0\n",
    "\n",
    "    def move(self):\n",
    "        \"\"\"The function to step check our fuckbois\"\"\"\n",
    "        possible = self.model.grid.get_neighborhood(\n",
    "            self.pos,\n",
    "            moore=True,\n",
    "            include_center = False)\n",
    "        new_position = self.random.choice(possible)\n",
    "        self.model.grid.move_agent(self,new_position)\n",
    "\n",
    "    def interact(self):\n",
    "        \"\"\"How agents interact when they bump in each other\"\"\"\n",
    "        if self.state == \"Sick\" :\n",
    "            for other in self.model.grid.get_cell_list_contents(self.pos):\n",
    "                s= self.random.random() \n",
    "                if s < 0.4 :#probability of transmission self.model.tprob\n",
    "                    if other.state == \"Suceptible\":\n",
    "                        other.state = \"Sick\"\n",
    "                        self.model.infected += 1\n",
    "                        other.infected_time = self.model.schedule.time\n",
    "    def step(self):\n",
    "        self.move()\n",
    "        self.interact()\n",
    "        if self.state == \"Sick\":\n",
    "            if (self.model.schedule.time - self.infected_time)==self.model.recover_days:\n",
    "                self.state=\"Recovered\"\n",
    "                self.model.recovered +=1"
   ]
  },
  {
   "cell_type": "code",
   "execution_count": 8,
   "metadata": {},
   "outputs": [
    {
     "data": {
      "image/png": "[encoded data removed]",
      "text/plain": [
       "<Figure size 432x288 with 1 Axes>"
      ]
     },
     "metadata": {
      "needs_background": "light"
     },
     "output_type": "display_data"
    }
   ],
   "source": [
    "model = SimpleDisease_2(300,20,20,5)\n",
    "for i in range(50):\n",
    "    model.step()\n",
    "    #print(model.schedule.time)\n",
    "infected = model.datacollector.get_model_vars_dataframe()\n",
    "infected.plot()\n",
    "#print(infected)\n",
    "plt.show()"
   ]
  },
  {
   "cell_type": "markdown",
   "metadata": {},
   "source": [
    "## Mistakes made in the above models\n",
    "I made the mistake of not counting the index infections in infected. Thus while recovered kept an accountof that,they were larger than total infections I counted.\n",
    "Corrected it with simple changes in agent initialization step."
   ]
  },
  {
   "cell_type": "markdown",
   "metadata": {},
   "source": [
    "## Simple Suceptible-Infected-Removed with deaths\n",
    "Now I'll try to introduce a simple death simulation in the previous model."
   ]
  },
  {
   "cell_type": "code",
   "execution_count": 9,
   "metadata": {},
   "outputs": [],
   "source": [
    "class SimpleDisease_3(Model):\n",
    "    \"\"\"Simple disease model\"\"\"\n",
    "    def __init__(self,N=300,width=20,height=20, recover_day = 7,death_rate=0.1):\n",
    "        self.N = N\n",
    "        self.grid = MultiGrid(width,height,False)\n",
    "        self.schedule = RandomActivation(self)\n",
    "        self.infected = 0\n",
    "        self.total = 0\n",
    "        self.recover_days = recover_day # this is the new line here\n",
    "        self.recovered = 0\n",
    "        self.death_total = 0\n",
    "        self.death_daily = 0\n",
    "        self.death_rate = death_rate\n",
    "        \n",
    "        # create agents and add to schedule\n",
    "        for i in range(self.N):\n",
    "            agent = Person(i,self)\n",
    "            self.schedule.add(agent)\n",
    "            x= self.random.randrange(self.grid.width)\n",
    "            y= self.random.randrange(self.grid.height)\n",
    "            self.grid.place_agent(agent,(x,y))\n",
    "            if self.random.random() < 0.1:\n",
    "                agent.state = \"Sick\"\n",
    "                agent.infected_time = self.schedule.time\n",
    "                self.infected +=1\n",
    "            else:\n",
    "                agent.state= \"Suceptible\"\n",
    "                agent.infected_time = 1000\n",
    "\n",
    "        self.datacollector = DataCollector(\n",
    "            model_reporters={\"Infected\":\"infected\", \"Total Infections\": \"total\",\"Recovered\":\"recovered\",\n",
    "                            \"Total Deaths\":\"death_total\",\"Daily Deaths\":\"death_daily\"},\n",
    "            agent_reporters={\"x\":lambda z:z.pos[0], \"y\": lambda z:z.pos[1], \"status\": lambda z: z.state},\n",
    "        )\n",
    "\n",
    "    def step(self):\n",
    "        #self.infected = 0\n",
    "        self.total += self.infected\n",
    "        self.death_total += self.death_daily \n",
    "        self.datacollector.collect(self)\n",
    "        self.infected = 0\n",
    "        self.death_daily = 0\n",
    "        self.schedule.step()"
   ]
  },
  {
   "cell_type": "code",
   "execution_count": 10,
   "metadata": {},
   "outputs": [],
   "source": [
    "class Person(Agent):\n",
    "    \"\"\"An agent of the Disease model\"\"\"\n",
    "    def _init_(self, unique_id, model, state= \"Suceptible\"):\n",
    "        super().__init__(unique_id, model)\n",
    "        self.state = state\n",
    "        #self.infected_time = 0\n",
    "\n",
    "    def move(self):\n",
    "        \"\"\"The function to step check our fuckbois\"\"\"\n",
    "        possible = self.model.grid.get_neighborhood(\n",
    "            self.pos,\n",
    "            moore=True,\n",
    "            include_center = False)\n",
    "        new_position = self.random.choice(possible)\n",
    "        self.model.grid.move_agent(self,new_position)\n",
    "\n",
    "    def interact(self):\n",
    "        \"\"\"How agents interact when they bump in each other\"\"\"\n",
    "        if self.state == \"Sick\" :\n",
    "            for other in self.model.grid.get_cell_list_contents(self.pos):\n",
    "                s= self.random.random() \n",
    "                if s < 0.4 :#probability of transmission self.model.tprob\n",
    "                    if other.state == \"Suceptible\":\n",
    "                        other.state = \"Sick\"\n",
    "                        self.model.infected += 1\n",
    "                        other.infected_time = self.model.schedule.time\n",
    "    def step(self):\n",
    "        self.move()\n",
    "        self.interact()\n",
    "        if self.state == \"Sick\":\n",
    "            if self.random.random() < self.model.death_rate:\n",
    "                self.state = \"Dead\"\n",
    "                self.model.death_daily +=1 \n",
    "            else:\n",
    "                if (self.model.schedule.time - self.infected_time)==self.model.recover_days:\n",
    "                    self.state=\"Recovered\"\n",
    "                    self.model.recovered +=1"
   ]
  },
  {
   "cell_type": "code",
   "execution_count": 11,
   "metadata": {},
   "outputs": [
    {
     "data": {
      "image/png": "[encoded data removed]",
      "text/plain": [
       "<Figure size 432x288 with 1 Axes>"
      ]
     },
     "metadata": {
      "needs_background": "light"
     },
     "output_type": "display_data"
    }
   ],
   "source": [
    "model = SimpleDisease_3(300, 20, 20, 7, 0.02)\n",
    "for i in range(50):\n",
    "    model.step()\n",
    "    #print(model.schedule.time)\n",
    "infected = model.datacollector.get_model_vars_dataframe()\n",
    "infected.plot()\n",
    "#print(infected)\n",
    "plt.show()"
   ]
  },
  {
   "cell_type": "markdown",
   "metadata": {},
   "source": [
    "## Simple Suceptible-Infected-Removed with deaths and Infection times\n",
    "In this model I'll try to add germination period(or whatever is the exact technical term for time it takes for the agent to take effect). Also, to keep it relevant, from now, those who are infected and show symptoms will stay home."
   ]
  },
  {
   "cell_type": "code",
   "execution_count": 12,
   "metadata": {},
   "outputs": [],
   "source": [
    "class SimpleDisease_4(Model):\n",
    "    \"\"\"Simple disease model\"\"\"\n",
    "    def __init__(self,N=300,width=20,height=20, recover_day = 7,death_rate=0.1, asymptom_days=3):\n",
    "        self.N = N\n",
    "        self.grid = MultiGrid(width,height,False)\n",
    "        self.schedule = RandomActivation(self)\n",
    "        self.infected = 0\n",
    "        self.total = 0\n",
    "        self.recover_days = recover_day \n",
    "        self.recovered = 0\n",
    "        self.death_total = 0\n",
    "        self.death_daily = 0\n",
    "        self.death_rate = death_rate\n",
    "        self.asymptom = asymptom_days\n",
    "        self.asymptomatic = 0\n",
    "        \n",
    "        # create agents and add to schedule\n",
    "        for i in range(self.N):\n",
    "            agent = Person(i,self)\n",
    "            self.schedule.add(agent)\n",
    "            x= self.random.randrange(self.grid.width)\n",
    "            y= self.random.randrange(self.grid.height)\n",
    "            self.grid.place_agent(agent,(x,y))\n",
    "            if self.random.random() < 0.1:\n",
    "                agent.state = \"Sick\"\n",
    "                agent.infected_time = self.schedule.time\n",
    "                self.infected +=1\n",
    "            else:\n",
    "                agent.state= \"Suceptible\"\n",
    "                agent.infected_time = 1000\n",
    "\n",
    "        self.datacollector = DataCollector(\n",
    "            model_reporters={\"Infected\":\"infected\", \"Total Infections\": \"total\",\"Recovered\":\"recovered\",\n",
    "                            \"Total Deaths\":\"death_total\",\"Daily Deaths\":\"death_daily\",\n",
    "                            \"Asymptomatic:\":\"asymptomatic\"},\n",
    "            agent_reporters={\"x\":lambda z:z.pos[0], \"y\": lambda z:z.pos[1], \"status\": lambda z: z.state},\n",
    "        )\n",
    "\n",
    "    def step(self):\n",
    "        #self.infected = 0\n",
    "        self.total += self.infected\n",
    "        self.death_total += self.death_daily \n",
    "        self.datacollector.collect(self)\n",
    "        self.infected = 0\n",
    "        self.death_daily = 0\n",
    "        #asymptomatic = 0\n",
    "        self.schedule.step()"
   ]
  },
  {
   "cell_type": "code",
   "execution_count": 13,
   "metadata": {},
   "outputs": [],
   "source": [
    "class Person(Agent):\n",
    "    \"\"\"An agent of the Disease model\"\"\"\n",
    "    def _init_(self, unique_id, model, state= \"Suceptible\"):\n",
    "        super().__init__(unique_id, model)\n",
    "        self.state = state\n",
    "        #self.infected_time = 0\n",
    "\n",
    "    def move(self):\n",
    "        \"\"\"The function to step check our fuckbois\"\"\"\n",
    "        possible = self.model.grid.get_neighborhood(\n",
    "            self.pos,\n",
    "            moore=True,\n",
    "            include_center = False)\n",
    "        new_position = self.random.choice(possible)\n",
    "        self.model.grid.move_agent(self,new_position)\n",
    "\n",
    "    def interact(self):\n",
    "        \"\"\"How agents interact when they bump in each other\"\"\"\n",
    "        if self.state == \"Sick\" :\n",
    "            for other in self.model.grid.get_cell_list_contents(self.pos):\n",
    "                s= self.random.random() \n",
    "                if s < 0.4 :#probability of transmission self.model.tprob\n",
    "                    if other.state == \"Suceptible\":\n",
    "                        other.state = \"Asymptomatic\" # here I add asymptomates \n",
    "                        self.model.infected += 1\n",
    "                        self.model.asymptomatic +=1\n",
    "                        other.infected_time = self.model.schedule.time\n",
    "    def step(self):\n",
    "        if self.state != \"Sick\" and self.state!=\"Dead\" :\n",
    "            self.move()\n",
    "        self.interact()\n",
    "        if self.state == \"Sick\":\n",
    "            if self.random.random() < self.model.death_rate:\n",
    "                self.state = \"Dead\"\n",
    "                self.model.death_daily +=1 \n",
    "                self.model.schedule.remove(self)\n",
    "            else:\n",
    "                if (self.model.schedule.time - self.infected_time)==self.model.recover_days:\n",
    "                    self.state=\"Recovered\"\n",
    "                    self.model.recovered +=1\n",
    "        elif self.state == \"Asymptomatic\":\n",
    "            if (self.model.schedule.time - self.infected_time) == self.model.asymptom:\n",
    "                self.state = \"Sick\"\n",
    "                self.model.asymptomatic -= 1"
   ]
  },
  {
   "cell_type": "code",
   "execution_count": 14,
   "metadata": {},
   "outputs": [
    {
     "data": {
      "image/png": "[encoded data removed]",
      "text/plain": [
       "<Figure size 432x288 with 1 Axes>"
      ]
     },
     "metadata": {
      "needs_background": "light"
     },
     "output_type": "display_data"
    }
   ],
   "source": [
    "model = SimpleDisease_4(500, 20, 20, 7, 0.02,3)\n",
    "for i in range(50):\n",
    "    model.step()\n",
    "    #print(model.schedule.time)\n",
    "infected = model.datacollector.get_model_vars_dataframe()\n",
    "infected.plot()\n",
    "#print(infected)\n",
    "plt.show()"
   ]
  },
  {
   "cell_type": "code",
   "execution_count": 76,
   "metadata": {},
   "outputs": [],
   "source": [
    "class SimpleDisease_4(Model):\n",
    "    \"\"\"Simple disease model\"\"\"\n",
    "    def __init__(self,N=300,width=20,height=20, recover_day = 7,death_rate=0.1, asymptom_days=3):\n",
    "        self.N = N\n",
    "        self.grid = MultiGrid(width,height,False)\n",
    "        self.schedule = RandomActivation(self)\n",
    "        self.infected = 0\n",
    "        self.total = 0\n",
    "        self.recover_days = recover_day \n",
    "        self.recovered = 0\n",
    "        self.death_total = 0\n",
    "        self.death_daily = 0\n",
    "        self.death_rate = death_rate\n",
    "        self.asymptom = asymptom_days\n",
    "        self.asymptomatic = 0\n",
    "        self.Y = (self.N * 50)\n",
    "        self.suceptible = 0\n",
    "        \n",
    "        # create agents and add to schedule\n",
    "        for i in range(self.N):\n",
    "            agent = Person(i,self)\n",
    "            self.schedule.add(agent)\n",
    "            x= self.random.randrange(self.grid.width)\n",
    "            y= self.random.randrange(self.grid.height)\n",
    "            self.grid.place_agent(agent,(x,y))\n",
    "            if self.random.random() < 0.01:\n",
    "                agent.state = \"Sick\"\n",
    "                agent.infected_time = self.schedule.time\n",
    "                self.infected +=1\n",
    "            else:\n",
    "                agent.state= \"Suceptible\"\n",
    "                agent.infected_time = 1000\n",
    "                self.suceptible += 1\n",
    "            agent.saving = 1000\n",
    "\n",
    "        self.datacollector = DataCollector(\n",
    "            model_reporters={\"Infected\":\"infected\", \"Total Infections\": \"total\",\"Recovered\":\"recovered\",\n",
    "                            \"Total Deaths\":\"death_total\",\"Daily Deaths\":\"death_daily\",\n",
    "                            \"Asymptomatic:\":\"asymptomatic\",\"Suceptible\":\"suceptible\"},\n",
    "            #agent_reporters={\"x\":lambda z:z.pos[0], \"y\": lambda z:z.pos[1], \"status\": lambda z: z.state},\n",
    "        )\n",
    "        self.income = DataCollector(model_reporters={\"Income\":\"Y\"})\n",
    "\n",
    "    def step(self):\n",
    "        #self.infected = 0\n",
    "        self.total += self.infected\n",
    "        self.death_total += self.death_daily \n",
    "        self.datacollector.collect(self)\n",
    "        self.income.collect(self)\n",
    "        self.infected = 0\n",
    "        self.Y =0\n",
    "        self.suceptible = 0\n",
    "        self.death_daily = 0\n",
    "        #asymptomatic = 0\n",
    "        self.schedule.step()"
   ]
  },
  {
   "cell_type": "code",
   "execution_count": 77,
   "metadata": {},
   "outputs": [],
   "source": [
    "class Person(Agent):\n",
    "    \"\"\"An agent of the Disease model\"\"\"\n",
    "    def __init__(self, unique_id, model, state= \"Suceptible\"):\n",
    "        super().__init__(unique_id, model)\n",
    "        self.state = state\n",
    "        self.saving =1000\n",
    "        #self.infected_time = 0\n",
    "\n",
    "    def move(self):\n",
    "        \"\"\"The function to step check our fuckbois\"\"\"\n",
    "        possible = self.model.grid.get_neighborhood(\n",
    "            self.pos,\n",
    "            moore=True,\n",
    "            include_center = False)\n",
    "        new_position = self.random.choice(possible)\n",
    "        self.model.grid.move_agent(self,new_position)\n",
    "\n",
    "    def interact(self):\n",
    "        \"\"\"How agents interact when they bump in each other\"\"\"\n",
    "        if self.state == \"Sick\" :\n",
    "            for other in self.model.grid.get_cell_list_contents(self.pos):\n",
    "                s= self.random.random() \n",
    "                if s < 0.4 :#probability of transmission self.model.tprob\n",
    "                    if other.state == \"Suceptible\":\n",
    "                        other.state = \"Asymptomatic\" # here I add asymptomates \n",
    "                        self.model.infected += 1\n",
    "                        self.model.asymptomatic +=1\n",
    "                        other.infected_time = self.model.schedule.time\n",
    "    def step(self):\n",
    "        if self.state != \"Sick\" and self.state!=\"Dead\" :\n",
    "            self.move()\n",
    "            self.saving += 50\n",
    "            self.model.Y += 50\n",
    "        self.interact()\n",
    "        if self.state == \"Sick\":\n",
    "            self.saving += (-100)\n",
    "            if self.random.random() < self.model.death_rate:\n",
    "                self.state = \"Dead\"\n",
    "                self.model.death_daily +=1 \n",
    "                self.model.schedule.remove(self)\n",
    "            else:\n",
    "                if (self.model.schedule.time - self.infected_time)==self.model.recover_days:\n",
    "                    self.state=\"Recovered\"\n",
    "                    self.model.recovered +=1\n",
    "        elif self.state == \"Asymptomatic\":\n",
    "            if (self.model.schedule.time - self.infected_time) == self.model.asymptom:\n",
    "                self.state = \"Sick\"\n",
    "                self.model.asymptomatic -= 1\n",
    "        elif self.state ==\"Suceptible\":\n",
    "            self.model.suceptible += 1"
   ]
  },
  {
   "cell_type": "code",
   "execution_count": 78,
   "metadata": {},
   "outputs": [
    {
     "data": {
      "image/png": "[encoded data removed]",
      "text/plain": [
       "<Figure size 432x288 with 1 Axes>"
      ]
     },
     "metadata": {
      "needs_background": "light"
     },
     "output_type": "display_data"
    },
    {
     "data": {
      "image/png": "[encoded data removed]",
      "text/plain": [
       "<Figure size 432x288 with 1 Axes>"
      ]
     },
     "metadata": {
      "needs_background": "light"
     },
     "output_type": "display_data"
    }
   ],
   "source": [
    "model = SimpleDisease_4(50000, 150, 150, 7, 0.02,3)\n",
    "for i in range(50):\n",
    "    model.step()\n",
    "    #print(model.schedule.time)\n",
    "infected = model.datacollector.get_model_vars_dataframe()\n",
    "economy = model.income.get_model_vars_dataframe()\n",
    "infected.plot()\n",
    "economy.plot()\n",
    "#print(infected)\n",
    "plt.show()"
   ]
  },
  {
   "cell_type": "code",
   "execution_count": 85,
   "metadata": {},
   "outputs": [],
   "source": [
    "class Simple(Model):\n",
    "    \"\"\"Our model class\"\"\"\n",
    "    def __init__(self,N=200,length=20,width=20, ptrans=0.6, drate=0.05, dcost=100):\n",
    "        self.N = N\n",
    "        self.grid = MultiGrid(width,length,False)\n",
    "        self.schedule = RandomActivation(self)\n",
    "        self.length = length\n",
    "        self.width =width\n",
    "        self.ptrans =ptrans\n",
    "        self.wage =50\n",
    "        self.drate = drate\n",
    "        self.sypt = 14\n",
    "        self.therapy = 14\n",
    "        self.dcost = 100\n",
    "  \n",
    "        self.data = DataCollector(\n",
    "            model_reporters={\"Infected\":\"infected\"},\n",
    "        )\n",
    "\n",
    "        self.infected = 0 \n",
    "        self.death = 0\n",
    "        self.asymptomatic = 0\n",
    "        self.Y = self.N*1000\n",
    "        self.therapy = 0\n",
    "        self.recovered = 0\n",
    "        self.destitute = 0\n",
    "\n",
    "        for i in range(self.N):\n",
    "            agent = Person(i,self)\n",
    "            self.schedule.add(agent)\n",
    "            x = self.random.randrange(self.grid.width)\n",
    "            y = self.random.randrange(self.grid.height)\n",
    "            self.grid.place_agent(agent, (x, y))\n",
    "            if self.random.random() < 0.01:\n",
    "                agent.status=\"Asymptomatic\"\n",
    "            else:\n",
    "                agent.status = \"Suceptible\"\n",
    "                agent.time = 0\n",
    "            agent.savings = 1000\n",
    "            \n",
    "        self.data.collect(self)\n",
    "        \n",
    "    def steps(self):\n",
    "        self.schedule.step()\n",
    "        self.data.collect(self)\n",
    "        self.Y = 0\n",
    "        self.destitute = 0\n",
    "        "
   ]
  },
  {
   "cell_type": "code",
   "execution_count": 86,
   "metadata": {},
   "outputs": [],
   "source": [
    "class Person(Agent):\n",
    "    \"\"\"A person in our model\"\"\"\n",
    "    def _init_(self, id , model, status=\"Suceptible\", savings=1000):\n",
    "        super()._init_(id,model)\n",
    "        self.status = status\n",
    "        self.savings = savings\n",
    "        self.time = -1 # to keep track of treatments\n",
    "\n",
    "    # Now lets define the important functions\n",
    "    def move(self):\n",
    "        possible_steps = self.model.grid.get_neighborhood(\n",
    "            self.pos,\n",
    "            moore=True,\n",
    "            include_center=False)\n",
    "        new_position = self.random.choice(possible_steps)\n",
    "        self.model.grid.move_agent(self, new_position)\n",
    "        self.savings += self.model.wage\n",
    "        self.model.Y += self.model.wage\n",
    "\n",
    "\n",
    "    def interact(self):\n",
    "        if self.status == \"Asymptomatic\":\n",
    "            cell = self.model.grid.get_cell_list_contents(self.pos)\n",
    "            for person in cell:\n",
    "                if person.status ==\"Suceptible\":\n",
    "                    if self.random.random() < self.model.ptrans:\n",
    "                        person.status = \"Asymptomatic\"\n",
    "                        person.time = self.model.schedule.time\n",
    "                        self.model.infected += 1\n",
    "                        self.model.asymptomatic +=1\n",
    "\n",
    "    def get_sick(self):\n",
    "        \"\"\" How people become sick and get therapy\"\"\"\n",
    "        if self.status== \"Asymptomatic\" and (self.model.schedule.time-self.time)==self.model.sypt :\n",
    "            self.status = \"Therapy\"\n",
    "            #self.model.active += 1\n",
    "            self.asymptomatic += -1\n",
    "        if self.status ==\"Therapy\":\n",
    "            self.savings += (-1*self.model.dcost)\n",
    "            if self.model.random.random() < self.model.drate:\n",
    "                self.status = \"Dead\"\n",
    "                self.model.dead += 1\n",
    "                self.therapy += -1\n",
    "                #self.active += -1\n",
    "                self.model.grid.remove(self)\n",
    "\n",
    "    def get_ok(self):\n",
    "        if self.status == \"Therapy\" and (self.model.schedule.time-self.time)==(self.model.therapy +self.model.sypt):\n",
    "            self.status = \"Recovered\"\n",
    "            self.model.recovered += 1\n",
    "            self.model.therapy += -1\n",
    "\n",
    "    def step(self):\n",
    "        if self.status != \"Therapy\" :\n",
    "            self.move()\n",
    "        self.interact()\n",
    "        self.get_sick()\n",
    "        self.get_ok\n",
    "        if self.savings < self.model.dcost:\n",
    "            self.model.destitute += 1\n"
   ]
  },
  {
   "cell_type": "code",
   "execution_count": 87,
   "metadata": {},
   "outputs": [
    {
     "data": {
      "image/png": "[encoded data removed]",
      "text/plain": [
       "<Figure size 432x288 with 1 Axes>"
      ]
     },
     "metadata": {
      "needs_background": "light"
     },
     "output_type": "display_data"
    }
   ],
   "source": [
    "model = Simple()\n",
    "for i in range(50):\n",
    "    model.steps()\n",
    "    #print(model.schedule.time)\n",
    "infected = model.data.get_model_vars_dataframe()\n",
    "#economy = model.income.get_model_vars_dataframe()\n",
    "infected.plot()\n",
    "#economy.plot()\n",
    "#print(infected)\n",
    "plt.show()"
   ]
  },
  {
   "cell_type": "code",
   "execution_count": null,
   "metadata": {},
   "outputs": [],
   "source": []
  }
 ],
 "metadata": {
  "kernelspec": {
   "display_name": "Python 3",
   "language": "python",
   "name": "python3"
  },
  "language_info": {
   "codemirror_mode": {
    "name": "ipython",
    "version": 3
   },
   "file_extension": ".py",
   "mimetype": "text/x-python",
   "name": "python",
   "nbconvert_exporter": "python",
   "pygments_lexer": "ipython3",
   "version": "3.8.0"
  }
 },
 "nbformat": 4,
 "nbformat_minor": 4
}
